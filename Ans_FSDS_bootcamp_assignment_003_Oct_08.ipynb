{
 "cells": [
  {
   "cell_type": "markdown",
   "id": "3da56722",
   "metadata": {},
   "source": [
    "## 1. Count the number of times iNeuron appears in the string.\n",
    "\n",
    "text = \"Welcome to iNeuron, You are a part of FSDS Bootcamp 2 in iNeuron. I hope you are enjoying the course by iNeuron\""
   ]
  },
  {
   "cell_type": "code",
   "execution_count": 4,
   "id": "d93c6fe6",
   "metadata": {},
   "outputs": [
    {
     "name": "stdout",
     "output_type": "stream",
     "text": [
      "Number of times iNeuron appears in the string:  3\n"
     ]
    }
   ],
   "source": [
    "text = \"Welcome to iNeuron, You are a part of FSDS Bootcamp 2 in iNeuron. I hope you are enjoying the course by iNeuron\"\n",
    "FSDS = text.count(\"iNeuron\")\n",
    "print(\"Number of times iNeuron appears in the string: \",FSDS)"
   ]
  },
  {
   "cell_type": "markdown",
   "id": "20c2e76b",
   "metadata": {},
   "source": [
    "## 2. Check if position 5 to 11 ends with the phrase iNeuron. in the string\n",
    "\n",
    "txt = \"Hello, welcome to FSDS 2.0 at iNeuron.\" "
   ]
  },
  {
   "cell_type": "code",
   "execution_count": 28,
   "id": "4642d89d",
   "metadata": {},
   "outputs": [
    {
     "data": {
      "text/plain": [
       "', welc'"
      ]
     },
     "execution_count": 28,
     "metadata": {},
     "output_type": "execute_result"
    }
   ],
   "source": [
    "txt = \"Hello, welcome to FSDS 2.0 at iNeuron.\"\n",
    "txt[5:11]"
   ]
  },
  {
   "cell_type": "markdown",
   "id": "bda5929f",
   "metadata": {},
   "source": [
    "## 3. Write a program that takes your full name as input and displays the abbreviations of the first and middle names except the last name which is displayed as it is. For example, if your name is Sunny Bhaveen Chandra, then the output should be S.B.Chandra "
   ]
  },
  {
   "cell_type": "code",
   "execution_count": 6,
   "id": "dd26a01a",
   "metadata": {},
   "outputs": [
    {
     "name": "stdout",
     "output_type": "stream",
     "text": [
      "Enter your name: Raushan Kumar\n"
     ]
    },
    {
     "ename": "IndexError",
     "evalue": "string index out of range",
     "output_type": "error",
     "traceback": [
      "\u001b[1;31m---------------------------------------------------------------------------\u001b[0m",
      "\u001b[1;31mIndexError\u001b[0m                                Traceback (most recent call last)",
      "Input \u001b[1;32mIn [6]\u001b[0m, in \u001b[0;36m<cell line: 2>\u001b[1;34m()\u001b[0m\n\u001b[0;32m      1\u001b[0m name \u001b[38;5;241m=\u001b[39m \u001b[38;5;28mstr\u001b[39m(\u001b[38;5;28minput\u001b[39m(\u001b[38;5;124m\"\u001b[39m\u001b[38;5;124mEnter your name: \u001b[39m\u001b[38;5;124m\"\u001b[39m))\n\u001b[1;32m----> 2\u001b[0m abbr_name \u001b[38;5;241m=\u001b[39m \u001b[43mname\u001b[49m\u001b[43m[\u001b[49m\u001b[38;5;241;43m0\u001b[39;49m\u001b[43m]\u001b[49m\u001b[43m[\u001b[49m\u001b[38;5;241;43m1\u001b[39;49m\u001b[43m]\u001b[49m\u001b[38;5;241m.\u001b[39mname[\u001b[38;5;241m1\u001b[39m][\u001b[38;5;241m1\u001b[39m]\n",
      "\u001b[1;31mIndexError\u001b[0m: string index out of range"
     ]
    }
   ],
   "source": [
    "name = str(input(\"Enter your name: \"))\n",
    "abbr_name = name[0][1].name[1][1]\n"
   ]
  },
  {
   "cell_type": "markdown",
   "id": "23e26db0",
   "metadata": {},
   "source": [
    "## 4. Join all items in a list into a string, using a hash(#) character as separator:\n",
    "\n",
    "LIST = [\"My\", \"name\", \"is\", \"Rishav\", \"Dash\"]"
   ]
  },
  {
   "cell_type": "code",
   "execution_count": 37,
   "id": "2a48763a",
   "metadata": {},
   "outputs": [
    {
     "data": {
      "text/plain": [
       "'My#name#is#Rishav#Dash'"
      ]
     },
     "execution_count": 37,
     "metadata": {},
     "output_type": "execute_result"
    }
   ],
   "source": [
    "LIST = [\"My\", \"name\", \"is\", \"Rishav\", \"Dash\"]\n",
    "\"#\".join(LIST)"
   ]
  },
  {
   "cell_type": "markdown",
   "id": "2a6fa5ed",
   "metadata": {},
   "source": [
    "## 5. Write example for the following string manipulation function,\n",
    "\n",
    "- isdecimal()\n",
    "- islower()\n",
    "- isupper()\n",
    "- isalpha()\n",
    "- isnumeric() "
   ]
  },
  {
   "cell_type": "code",
   "execution_count": 12,
   "id": "edbbad92",
   "metadata": {},
   "outputs": [
    {
     "name": "stdout",
     "output_type": "stream",
     "text": [
      "True\n",
      "True\n",
      "False\n",
      "False\n",
      "True\n"
     ]
    }
   ],
   "source": [
    "# isdecimal()\n",
    "a = \"102\"\n",
    "print(a.isdecimal())\n",
    "\n",
    "# islower()\n",
    "x = \"ineuron\"\n",
    "print(x.islower())\n",
    "\n",
    "# isupper()\n",
    "b = \"python\"\n",
    "print(b.isupper())\n",
    "\n",
    "# isalpha()\n",
    "z = \"string12\"\n",
    "print(z.isalpha())\n",
    "\n",
    "# isnumeric()\n",
    "num = \"12356\"\n",
    "print(num.isnumeric())"
   ]
  },
  {
   "cell_type": "markdown",
   "id": "ac257694",
   "metadata": {},
   "source": [
    "## 6.Indian PAN card format follows the following formats -\n",
    "\n",
    "AYEPC7894X   \n",
    "ABCDE9999Y    \n",
    "Take user input for PAN_CARD and validate as per the above example. "
   ]
  },
  {
   "cell_type": "code",
   "execution_count": 26,
   "id": "dd448b77",
   "metadata": {},
   "outputs": [
    {
     "name": "stdout",
     "output_type": "stream",
     "text": [
      "Enter the PAN number: ABCDE9999Y\n",
      "This is a valid PAN_CARD\n"
     ]
    }
   ],
   "source": [
    "PAN_CARD = (input(\"Enter the PAN number: \"))\n",
    "if PAN_CARD.isalnum():\n",
    "    print(\"This is a valid PAN_CARD\")\n",
    "else:\n",
    "    print(\"This PAN number is not valid\")"
   ]
  }
 ],
 "metadata": {
  "kernelspec": {
   "display_name": "Python 3 (ipykernel)",
   "language": "python",
   "name": "python3"
  },
  "language_info": {
   "codemirror_mode": {
    "name": "ipython",
    "version": 3
   },
   "file_extension": ".py",
   "mimetype": "text/x-python",
   "name": "python",
   "nbconvert_exporter": "python",
   "pygments_lexer": "ipython3",
   "version": "3.9.12"
  }
 },
 "nbformat": 4,
 "nbformat_minor": 5
}
