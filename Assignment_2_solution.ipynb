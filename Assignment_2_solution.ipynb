{
 "cells": [
  {
   "cell_type": "markdown",
   "id": "61de4925",
   "metadata": {},
   "source": [
    "# Assignment_2 Solution"
   ]
  },
  {
   "cell_type": "markdown",
   "id": "556e8d13",
   "metadata": {},
   "source": [
    "### 1.What are the two values of the Boolean data type? How do you write them? "
   ]
  },
  {
   "cell_type": "markdown",
   "id": "3dd38899",
   "metadata": {},
   "source": [
    "**Ans:** The two values of the Boolean data type are **True** and **False**.We have to use capital T and F and the rest word in lower case. "
   ]
  },
  {
   "cell_type": "markdown",
   "id": "d408492f",
   "metadata": {},
   "source": [
    "### 2. What are the three different types of Boolean operators? "
   ]
  },
  {
   "cell_type": "markdown",
   "id": "f7e47ba5",
   "metadata": {},
   "source": [
    "**Ans:-**  **and** , **not** , **or** are the three different types of Boolean operators."
   ]
  },
  {
   "cell_type": "code",
   "execution_count": 1,
   "id": "93ce1412",
   "metadata": {},
   "outputs": [
    {
     "name": "stdout",
     "output_type": "stream",
     "text": [
      "True\n",
      "True\n",
      "False\n"
     ]
    }
   ],
   "source": [
    "a = 10\n",
    "b = 20\n",
    "c = 30\n",
    "print(b>a and b<c) # and Boolean operator\n",
    "print(c>a or b>a) # or Boolean operator\n",
    "print(not(b>a)) # not Boolean operator"
   ]
  },
  {
   "cell_type": "markdown",
   "id": "8e00e437",
   "metadata": {},
   "source": [
    "### 3. Make a list of each Boolean operator's truth tables (i.e. every possible combination of Boolean values for the operator and what it evaluate )."
   ]
  },
  {
   "cell_type": "markdown",
   "id": "4d7f6a66",
   "metadata": {},
   "source": [
    "**Ans:** Truth table of Boolean operators are:  \n",
    "        \n",
    "  ***:- Truth Table for and operator is***    \n",
    "  True and True is True       \n",
    "  True and False is False    \n",
    "  False and True is False       \n",
    "  False and False is False    \n",
    "      \n",
    "  ***:- Truth Table for not operator is***     \n",
    "  **A** ---------------- **Not A**    \n",
    "  True  -------------   False    \n",
    "  False -----------    True       \n",
    "  \n",
    "  ***:- Truth Table for or operator is***    \n",
    "  True and True is True     \n",
    "  True and False is True     \n",
    "  False and True is True    \n",
    "  False and False is False    \n",
    "  \n",
    "  \n",
    "  "
   ]
  },
  {
   "cell_type": "markdown",
   "id": "7f53c051",
   "metadata": {},
   "source": [
    "### 4. What are the values of the following expressions?\n",
    "(5 > 4) and (3 == 5)   \n",
    "not (5 > 4)   \n",
    "(5 > 4) or (3 == 5)   \n",
    "not ((5 > 4) or (3 == 5))   \n",
    "(True and True) and (True == False)   \n",
    "(not False) or (not True)   \n",
    " "
   ]
  },
  {
   "cell_type": "code",
   "execution_count": 2,
   "id": "14d98f83",
   "metadata": {},
   "outputs": [
    {
     "name": "stdout",
     "output_type": "stream",
     "text": [
      "False\n",
      "False\n",
      "True\n",
      "False\n",
      "False\n",
      "True\n"
     ]
    }
   ],
   "source": [
    "# Answer:-\n",
    "\n",
    "print((5 > 4) and (3 == 5))\n",
    "print(not (5 > 4))\n",
    "print((5 > 4) or (3 == 5))\n",
    "print(not ((5 > 4) or (3 == 5)))\n",
    "print((True and True) and (True == False))\n",
    "print((not False) or (not True))"
   ]
  },
  {
   "cell_type": "markdown",
   "id": "3066e861",
   "metadata": {},
   "source": [
    "### 5. What are the six comparison operators? "
   ]
  },
  {
   "cell_type": "markdown",
   "id": "d1bb49ac",
   "metadata": {},
   "source": [
    "**Ans:** Six comparison operators in python are:    \n",
    "**<**  ,   **>** , **<=** , **>=** , **==** , **!=**"
   ]
  },
  {
   "cell_type": "code",
   "execution_count": 3,
   "id": "7fc7c439",
   "metadata": {},
   "outputs": [
    {
     "name": "stdout",
     "output_type": "stream",
     "text": [
      "True\n",
      "False\n",
      "True\n",
      "False\n",
      "False\n",
      "True\n"
     ]
    }
   ],
   "source": [
    "# Example\n",
    "\n",
    "a = 10\n",
    "b = 16\n",
    "print(a < b) #Less than operator\n",
    "print(a > b) # Greater than operator\n",
    "print(a <= b) # Less then or equal to operator\n",
    "print(a >= b) # Greater than or equal to operator\n",
    "print(a == b) # Equal to operator\n",
    "print(a != b) # NOt equal to operator"
   ]
  },
  {
   "cell_type": "markdown",
   "id": "34511983",
   "metadata": {},
   "source": [
    "### 6. How do you tell the difference between the equal to and assignment operators?Describe a condition and when you would use one."
   ]
  },
  {
   "cell_type": "markdown",
   "id": "8ce051c7",
   "metadata": {},
   "source": [
    "**Ans** The equal to operator ( **==** ) Compares two values, While **=** is the assignment operator that assign or stores value in variable."
   ]
  },
  {
   "cell_type": "code",
   "execution_count": 4,
   "id": "11ec61e1",
   "metadata": {},
   "outputs": [
    {
     "name": "stdout",
     "output_type": "stream",
     "text": [
      "True\n"
     ]
    }
   ],
   "source": [
    "# Example\n",
    "x = 10  # \"=\" assignment operator , assign the value in variable x\n",
    "print(x == 10) # \"==\" Equal to operator , compare the value with variable"
   ]
  },
  {
   "cell_type": "markdown",
   "id": "7933c440",
   "metadata": {},
   "source": [
    "### 7. Identify the three blocks in this code:\n",
    "spam = 0   \n",
    "if spam == 10:   \n",
    "print('eggs')    \n",
    "if spam > 5:    \n",
    "print('bacon')   \n",
    "else:    \n",
    "print('ham')   \n",
    "print('spam')   \n",
    "print('spam')      \n",
    " "
   ]
  },
  {
   "cell_type": "code",
   "execution_count": 5,
   "id": "cee1ba5c",
   "metadata": {},
   "outputs": [
    {
     "name": "stdout",
     "output_type": "stream",
     "text": [
      "ham\n",
      "spam\n",
      "spam\n"
     ]
    }
   ],
   "source": [
    "# Answer:-\n",
    "\n",
    "spam = 0\n",
    "if spam == 10:\n",
    "    print('eggs') # Block 1\n",
    "if spam > 5:\n",
    "    print('bacon') # Block 2\n",
    "else:\n",
    "    print('ham') # Block 3\n",
    "print('spam')\n",
    "print('spam')\n"
   ]
  },
  {
   "cell_type": "markdown",
   "id": "38271b86",
   "metadata": {},
   "source": [
    "### 8. Write code that prints Hello if 1 is stored in spam, prints Howdy if 2 is stored in spam, and prints Greetings! if anything else is stored in spam. "
   ]
  },
  {
   "cell_type": "code",
   "execution_count": 6,
   "id": "71ea3c2f",
   "metadata": {},
   "outputs": [
    {
     "name": "stdout",
     "output_type": "stream",
     "text": [
      "Hello\n",
      "Howday\n",
      "Greetings\n"
     ]
    }
   ],
   "source": [
    "def is_spam(spam):\n",
    "    if spam == 1:\n",
    "        print(\"Hello\")\n",
    "    elif spam == 2:\n",
    "        print(\"Howday\")\n",
    "    else:\n",
    "        print(\"Greetings\")\n",
    "is_spam(1)\n",
    "is_spam(2)\n",
    "is_spam(0)\n",
    "    "
   ]
  },
  {
   "cell_type": "markdown",
   "id": "3047cf05",
   "metadata": {},
   "source": [
    "### 9. If your programme is stuck in an endless loop, what keys you’ll press? "
   ]
  },
  {
   "cell_type": "markdown",
   "id": "bf147fb3",
   "metadata": {},
   "source": [
    "**Ans:** An infinite loop is a loop that runs indefinitely and it only stops with external intervention or when a break statement is found.We can stop an infinite loop with **CTRL + C**"
   ]
  },
  {
   "cell_type": "markdown",
   "id": "410a7960",
   "metadata": {},
   "source": [
    "### 10. How can you tell the difference between break and continue? "
   ]
  },
  {
   "cell_type": "markdown",
   "id": "e2dc4a0a",
   "metadata": {},
   "source": [
    "**Ans:** The break keyword , terminates the execution of the current loop and passes the control over the next loop or main body, whereas when continue keyword is encountered, it skips the current iteration and executes the very next iteration in the loop."
   ]
  },
  {
   "cell_type": "markdown",
   "id": "52da0209",
   "metadata": {},
   "source": [
    "### 11. In a for loop, what is the difference between range(10), range(0, 10), and range(0, 10, 1)?"
   ]
  },
  {
   "cell_type": "markdown",
   "id": "fd72099b",
   "metadata": {},
   "source": [
    "**Ans:**    \n",
    "In a for loop the **range(0, 10)** , **range(10)** , the range starts from 0 - 9     \n",
    " \n",
    "\n",
    "and **range(0, 10, 1)** tells , it starts at 0 proceeds forward adding by 1 to the last value , and stop at the last value before 10"
   ]
  },
  {
   "cell_type": "code",
   "execution_count": 12,
   "id": "94bd885e",
   "metadata": {},
   "outputs": [
    {
     "name": "stdout",
     "output_type": "stream",
     "text": [
      "0 1 2 3 4 5 6 7 8 9 "
     ]
    }
   ],
   "source": [
    "for i in range(0, 10, 1):\n",
    "    print(i , end=\" \")\n",
    "    "
   ]
  },
  {
   "cell_type": "markdown",
   "id": "3e131714",
   "metadata": {},
   "source": [
    "### 12. Write a short program that prints the numbers 1 to 10 using a for loop. Then write an equivalent program that prints the numbers 1 to 10 using a while loop. "
   ]
  },
  {
   "cell_type": "code",
   "execution_count": 9,
   "id": "26d9689c",
   "metadata": {},
   "outputs": [
    {
     "name": "stdout",
     "output_type": "stream",
     "text": [
      "Using For Loop:-\n",
      "1 2 3 4 5 6 7 8 9 10 \n",
      "\n",
      "Using While loop:- \n",
      "1 2 3 4 5 6 7 8 9 10 "
     ]
    }
   ],
   "source": [
    "print(\"Using For Loop:-\")\n",
    "for i in range(1, 11):\n",
    "    print(i , end=\" \")\n",
    "    \n",
    "print(\"\\n\")\n",
    "\n",
    "print(\"Using While loop:- \")\n",
    "i = 1\n",
    "while i<=10:\n",
    "    print(i , end=\" \")\n",
    "    i+=1"
   ]
  },
  {
   "cell_type": "markdown",
   "id": "93f772c8",
   "metadata": {},
   "source": [
    "### 13. If you had a function named bacon() inside a module named spam, how would you call it after importing spam?\n",
    "\n",
    "    "
   ]
  },
  {
   "cell_type": "markdown",
   "id": "fc1ff14e",
   "metadata": {},
   "source": [
    "**Ans:**  We call the function with spam.bacon()."
   ]
  },
  {
   "cell_type": "markdown",
   "id": "01a7268c",
   "metadata": {},
   "source": [
    "# -- Thank you -- "
   ]
  }
 ],
 "metadata": {
  "kernelspec": {
   "display_name": "Python 3 (ipykernel)",
   "language": "python",
   "name": "python3"
  },
  "language_info": {
   "codemirror_mode": {
    "name": "ipython",
    "version": 3
   },
   "file_extension": ".py",
   "mimetype": "text/x-python",
   "name": "python",
   "nbconvert_exporter": "python",
   "pygments_lexer": "ipython3",
   "version": "3.9.12"
  }
 },
 "nbformat": 4,
 "nbformat_minor": 5
}
