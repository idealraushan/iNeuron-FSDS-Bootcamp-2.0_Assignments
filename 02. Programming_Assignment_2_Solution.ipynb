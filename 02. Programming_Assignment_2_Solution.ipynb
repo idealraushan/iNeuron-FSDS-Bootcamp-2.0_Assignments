{
 "cells": [
  {
   "cell_type": "markdown",
   "id": "ae08baf3",
   "metadata": {},
   "source": [
    "##  1.\tWrite a Python program to convert kilometers to miles?"
   ]
  },
  {
   "cell_type": "code",
   "execution_count": 1,
   "id": "0a41ce4b",
   "metadata": {},
   "outputs": [
    {
     "name": "stdout",
     "output_type": "stream",
     "text": [
      "Enter the number in kilometer as a unit:36\n",
      "The converted value in miles is : 0.04470388888888889\n"
     ]
    }
   ],
   "source": [
    "num = int(input(\"Enter the number in kilometer as a unit:\"))\n",
    "miles = 1.60934\n",
    "convert_form = miles/num\n",
    "print(\"The converted value in miles is :\", convert_form)"
   ]
  },
  {
   "cell_type": "markdown",
   "id": "2238e254",
   "metadata": {},
   "source": [
    "## 2. Write a Python program to convert Celsius to Fahrenheit?"
   ]
  },
  {
   "cell_type": "code",
   "execution_count": 2,
   "id": "85090dc5",
   "metadata": {},
   "outputs": [
    {
     "name": "stdout",
     "output_type": "stream",
     "text": [
      "Enter the temperature in celsius :36\n",
      "The converted temperature in fahrenheit is : 96.8\n"
     ]
    }
   ],
   "source": [
    "num = float(input(\"Enter the temperature in celsius :\"))\n",
    "fahr_conv = num*1.8+32\n",
    "print(\"The converted temperature in fahrenheit is :\", fahr_conv)"
   ]
  },
  {
   "cell_type": "markdown",
   "id": "2fae407e",
   "metadata": {},
   "source": [
    "## 3. Write a Python program to display calendar?"
   ]
  },
  {
   "cell_type": "code",
   "execution_count": 3,
   "id": "97d6bdb1",
   "metadata": {},
   "outputs": [
    {
     "name": "stdout",
     "output_type": "stream",
     "text": [
      "Enter the year :2023\n",
      "                                  2023\n",
      "\n",
      "      January                   February                   March\n",
      "Mo Tu We Th Fr Sa Su      Mo Tu We Th Fr Sa Su      Mo Tu We Th Fr Sa Su\n",
      "                   1             1  2  3  4  5             1  2  3  4  5\n",
      " 2  3  4  5  6  7  8       6  7  8  9 10 11 12       6  7  8  9 10 11 12\n",
      " 9 10 11 12 13 14 15      13 14 15 16 17 18 19      13 14 15 16 17 18 19\n",
      "16 17 18 19 20 21 22      20 21 22 23 24 25 26      20 21 22 23 24 25 26\n",
      "23 24 25 26 27 28 29      27 28                     27 28 29 30 31\n",
      "30 31\n",
      "\n",
      "       April                      May                       June\n",
      "Mo Tu We Th Fr Sa Su      Mo Tu We Th Fr Sa Su      Mo Tu We Th Fr Sa Su\n",
      "                1  2       1  2  3  4  5  6  7                1  2  3  4\n",
      " 3  4  5  6  7  8  9       8  9 10 11 12 13 14       5  6  7  8  9 10 11\n",
      "10 11 12 13 14 15 16      15 16 17 18 19 20 21      12 13 14 15 16 17 18\n",
      "17 18 19 20 21 22 23      22 23 24 25 26 27 28      19 20 21 22 23 24 25\n",
      "24 25 26 27 28 29 30      29 30 31                  26 27 28 29 30\n",
      "\n",
      "        July                     August                  September\n",
      "Mo Tu We Th Fr Sa Su      Mo Tu We Th Fr Sa Su      Mo Tu We Th Fr Sa Su\n",
      "                1  2          1  2  3  4  5  6                   1  2  3\n",
      " 3  4  5  6  7  8  9       7  8  9 10 11 12 13       4  5  6  7  8  9 10\n",
      "10 11 12 13 14 15 16      14 15 16 17 18 19 20      11 12 13 14 15 16 17\n",
      "17 18 19 20 21 22 23      21 22 23 24 25 26 27      18 19 20 21 22 23 24\n",
      "24 25 26 27 28 29 30      28 29 30 31               25 26 27 28 29 30\n",
      "31\n",
      "\n",
      "      October                   November                  December\n",
      "Mo Tu We Th Fr Sa Su      Mo Tu We Th Fr Sa Su      Mo Tu We Th Fr Sa Su\n",
      "                   1             1  2  3  4  5                   1  2  3\n",
      " 2  3  4  5  6  7  8       6  7  8  9 10 11 12       4  5  6  7  8  9 10\n",
      " 9 10 11 12 13 14 15      13 14 15 16 17 18 19      11 12 13 14 15 16 17\n",
      "16 17 18 19 20 21 22      20 21 22 23 24 25 26      18 19 20 21 22 23 24\n",
      "23 24 25 26 27 28 29      27 28 29 30               25 26 27 28 29 30 31\n",
      "30 31\n",
      "\n"
     ]
    }
   ],
   "source": [
    "import calendar\n",
    "def Calendar():\n",
    "    year = int(input(\"Enter the year :\",))\n",
    "    print(calendar.calendar(year))\n",
    "Calendar()"
   ]
  },
  {
   "cell_type": "markdown",
   "id": "65e61d6c",
   "metadata": {},
   "source": [
    "## 4. Write a Python program to solve quadratic equation?"
   ]
  },
  {
   "cell_type": "code",
   "execution_count": 16,
   "id": "21e1a90d",
   "metadata": {},
   "outputs": [
    {
     "name": "stdout",
     "output_type": "stream",
     "text": [
      "Enter a value :8\n",
      "Enter b value :5\n",
      "Enter c value :9\n",
      "The solutions are : (-0.3125-1.0135796712641785j) (-0.3125+1.0135796712641785j)\n"
     ]
    }
   ],
   "source": [
    "import cmath\n",
    "a = int(input(\"Enter a value :\"))\n",
    "b = int(input(\"Enter b value :\"))\n",
    "c = int(input(\"Enter c value :\"))\n",
    "d = (b**2)-(4*a*c)\n",
    "soln1 = (-b-cmath.sqrt(d))/(2*a)\n",
    "soln2 = (-b+cmath.sqrt(d))/(2*a)\n",
    "print(\"The solutions are :\",soln1, soln2)\n"
   ]
  },
  {
   "cell_type": "markdown",
   "id": "89d18041",
   "metadata": {},
   "source": [
    "## 5. Write a Python program to swap two variables without temp variable? "
   ]
  },
  {
   "cell_type": "code",
   "execution_count": null,
   "id": "9a7619b3",
   "metadata": {},
   "outputs": [],
   "source": [
    "def swap():\n",
    "    num1 = int(input(\"Enter the first number :\"))\n",
    "    num2 = int(input(\"Enter the second number :\"))\n",
    "    num1,num2 = num2,num1\n",
    "    print(\"The value of 1st number after swapping :\", num1)\n",
    "    print(\"The value of 2nd number after swapping :\", num2)\n",
    "swap()\n"
   ]
  },
  {
   "cell_type": "markdown",
   "id": "cf9f952b",
   "metadata": {},
   "source": [
    "# Thank you "
   ]
  }
 ],
 "metadata": {
  "kernelspec": {
   "display_name": "Python 3 (ipykernel)",
   "language": "python",
   "name": "python3"
  },
  "language_info": {
   "codemirror_mode": {
    "name": "ipython",
    "version": 3
   },
   "file_extension": ".py",
   "mimetype": "text/x-python",
   "name": "python",
   "nbconvert_exporter": "python",
   "pygments_lexer": "ipython3",
   "version": "3.9.12"
  }
 },
 "nbformat": 4,
 "nbformat_minor": 5
}
