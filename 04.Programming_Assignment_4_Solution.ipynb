{
 "cells": [
  {
   "cell_type": "markdown",
   "id": "1115c7bf",
   "metadata": {},
   "source": [
    "### 1. Write a Python Program to Find the Factorial of a Number?"
   ]
  },
  {
   "cell_type": "code",
   "execution_count": 1,
   "id": "9a33ae5a",
   "metadata": {},
   "outputs": [
    {
     "name": "stdout",
     "output_type": "stream",
     "text": [
      "Enter a number:6\n",
      "720\n"
     ]
    }
   ],
   "source": [
    "class Factorial:\n",
    "    def FindFactorial(self):\n",
    "        num = int(input(\"Enter a number:\"))\n",
    "        mul = 1\n",
    "        for i in range(1,num+1):\n",
    "            mul=mul*i\n",
    "        return mul\n",
    "        \n",
    "fact = Factorial()\n",
    "result = fact.FindFactorial()\n",
    "print(result)"
   ]
  },
  {
   "cell_type": "markdown",
   "id": "767c7a90",
   "metadata": {},
   "source": [
    "### 2. Write a Python Program to Display the multiplication Table? "
   ]
  },
  {
   "cell_type": "code",
   "execution_count": 2,
   "id": "cc69638d",
   "metadata": {},
   "outputs": [
    {
     "name": "stdout",
     "output_type": "stream",
     "text": [
      "Enter a number: 5\n",
      " 5 * 1 = 5\n",
      "5 * 2 = 10\n",
      "5 * 3 = 15\n",
      "5 * 4 = 20\n",
      "5 * 5 = 25\n",
      "5 * 6 = 30\n",
      "5 * 7 = 35\n",
      "5 * 8 = 40\n",
      "5 * 9 = 45\n",
      "5 * 10 = 50\n",
      "\n"
     ]
    }
   ],
   "source": [
    "class Table:\n",
    "    def multable(self):\n",
    "        num = int(input(\"Enter a number: \"))\n",
    "        a = \" \"\n",
    "        for i in range(1,11):\n",
    "            mul = num*i\n",
    "            a += f\"{num} * {i} = {mul}\\n\"\n",
    "        return a\n",
    "table = Table()\n",
    "result = table.multable()\n",
    "print(result)"
   ]
  },
  {
   "cell_type": "markdown",
   "id": "49781828",
   "metadata": {},
   "source": [
    "### 3. Write a Python Program to Print the Fibonacci sequence?"
   ]
  },
  {
   "cell_type": "code",
   "execution_count": 17,
   "id": "4b0849c0",
   "metadata": {},
   "outputs": [
    {
     "name": "stdout",
     "output_type": "stream",
     "text": [
      "Enter a number: 5\n",
      "[1, 1, 2, 3, 5]\n"
     ]
    }
   ],
   "source": [
    "class Sequence:\n",
    "    def FibSequence(self):\n",
    "        n = int(input(\"Enter a number: \"))\n",
    "        fib = []\n",
    "        a, b = 0, 1\n",
    "        for i in range(n):\n",
    "            a, b = b, a+b\n",
    "            fib.append(a)\n",
    "        return fib\n",
    "\n",
    "fibo = Sequence()\n",
    "result = fibo.FibSequence()\n",
    "print(result)       "
   ]
  },
  {
   "cell_type": "markdown",
   "id": "fb76bbfa",
   "metadata": {},
   "source": [
    "### 4. Write a Python Program to Check Armstrong Number?"
   ]
  },
  {
   "cell_type": "code",
   "execution_count": 22,
   "id": "66210cdc",
   "metadata": {},
   "outputs": [
    {
     "name": "stdout",
     "output_type": "stream",
     "text": [
      "Enter a number: 123\n",
      "123 is not an Armstrong number\n",
      "None\n"
     ]
    }
   ],
   "source": [
    "class Armstrong:\n",
    "    def CheckArmstrong(self):\n",
    "        num = int(input(\"Enter a number: \"))\n",
    "        n = len(str(num))\n",
    "        sum = 0\n",
    "        temp = num\n",
    "\n",
    "        while temp > 0:\n",
    "            digit = temp % 10\n",
    "            sum += digit ** n\n",
    "            temp //= 10\n",
    "\n",
    "        if num == sum:\n",
    "            print(num,\"is an Armstrong number\")\n",
    "        else:\n",
    "            print(num,\"is not an Armstrong number\")\n",
    "Arm = Armstrong()\n",
    "result = Arm.CheckArmstrong()\n",
    "print(result)\n"
   ]
  },
  {
   "cell_type": "markdown",
   "id": "d660dbed",
   "metadata": {},
   "source": [
    "### 5. Write a Python Program to Find Armstrong Number in an Interval? "
   ]
  },
  {
   "cell_type": "code",
   "execution_count": 2,
   "id": "c4119009",
   "metadata": {},
   "outputs": [
    {
     "name": "stdout",
     "output_type": "stream",
     "text": [
      "Enter lower number: 1\n",
      "Enter upper  number: 500\n",
      "1\n",
      "2\n",
      "3\n",
      "4\n",
      "5\n",
      "6\n",
      "7\n",
      "8\n",
      "9\n",
      "153\n",
      "370\n",
      "371\n",
      "407\n"
     ]
    }
   ],
   "source": [
    "lower = int(input(\"Enter lower number: \"))\n",
    "upper = int(input(\"Enter upper  number: \"))\n",
    "for i in range(lower , upper+1):\n",
    "    n = len(str(i))\n",
    "    sum = 0\n",
    "    temp = i\n",
    "    while temp > 0:\n",
    "        digit = temp % 10\n",
    "        sum += digit ** n\n",
    "        temp //= 10\n",
    "    if i == sum:\n",
    "        print(i)"
   ]
  },
  {
   "cell_type": "markdown",
   "id": "3571d5f4",
   "metadata": {},
   "source": [
    "### 6. Write a Python Program to Find the Sum of Natural Numbers?"
   ]
  },
  {
   "cell_type": "code",
   "execution_count": null,
   "id": "05f2a763",
   "metadata": {},
   "outputs": [],
   "source": [
    "class Sum:\n",
    "    def findsum(self):\n",
    "        num = int(input(\"Enter the number: \"))\n",
    "        add = 0\n",
    "        for i in range(0,num+1):\n",
    "            add = add+i\n",
    "        return f\"sum of natural number:\",add\n",
    "number = Sum()\n",
    "result = number.findsum()\n",
    "print(result)\n",
    "        "
   ]
  },
  {
   "cell_type": "markdown",
   "id": "0f311032",
   "metadata": {},
   "source": [
    "## Thank you"
   ]
  }
 ],
 "metadata": {
  "kernelspec": {
   "display_name": "Python 3 (ipykernel)",
   "language": "python",
   "name": "python3"
  },
  "language_info": {
   "codemirror_mode": {
    "name": "ipython",
    "version": 3
   },
   "file_extension": ".py",
   "mimetype": "text/x-python",
   "name": "python",
   "nbconvert_exporter": "python",
   "pygments_lexer": "ipython3",
   "version": "3.9.12"
  }
 },
 "nbformat": 4,
 "nbformat_minor": 5
}
