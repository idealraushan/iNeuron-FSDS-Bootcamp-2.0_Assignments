{
 "cells": [
  {
   "cell_type": "markdown",
   "id": "9b0d48b0",
   "metadata": {},
   "source": [
    "# Programming_Assignment_1_Solution"
   ]
  },
  {
   "cell_type": "markdown",
   "id": "7bbd18aa",
   "metadata": {},
   "source": [
    "### 1. \tWrite a Python program to print \"Hello Python\"? "
   ]
  },
  {
   "cell_type": "code",
   "execution_count": 1,
   "id": "9d7cacc4",
   "metadata": {},
   "outputs": [
    {
     "name": "stdout",
     "output_type": "stream",
     "text": [
      "Hello Python\n"
     ]
    }
   ],
   "source": [
    "print(\"Hello Python\")"
   ]
  },
  {
   "cell_type": "markdown",
   "id": "d55ad344",
   "metadata": {},
   "source": [
    "### 2.\tWrite a Python program to do arithmetical operations addition and division.?"
   ]
  },
  {
   "cell_type": "code",
   "execution_count": 8,
   "id": "5212cfd4",
   "metadata": {},
   "outputs": [
    {
     "name": "stdout",
     "output_type": "stream",
     "text": [
      "Enter First number: 25\n",
      "Enter second number: 45\n",
      "The sum of the numbers is:  70\n",
      "\n",
      "\n",
      "Enter First number: 66\n",
      "Enter second number: 14\n",
      "The division of the number is:  4.714285714285714\n"
     ]
    }
   ],
   "source": [
    "# Addition Operation \n",
    "a = int(input(\"Enter First number: \"))\n",
    "b = int(input(\"Enter second number: \"))\n",
    "s = a + b\n",
    "print(\"The sum of the numbers is: \",s)\n",
    "\n",
    "print(\"\\n\")\n",
    "\n",
    "# Division Operation\n",
    "x = int(input(\"Enter First number: \"))\n",
    "y = int(input(\"Enter second number: \"))\n",
    "d = x/y\n",
    "print(\"The division of the number is: \",d)\n"
   ]
  },
  {
   "cell_type": "markdown",
   "id": "9c056d25",
   "metadata": {},
   "source": [
    "### 3.\tWrite a Python program to find the area of a triangle? "
   ]
  },
  {
   "cell_type": "code",
   "execution_count": 13,
   "id": "573d631a",
   "metadata": {},
   "outputs": [
    {
     "name": "stdout",
     "output_type": "stream",
     "text": [
      "Enter base of triangle: 12\n",
      "Enter height of triangle: 6\n",
      "\n",
      "\n",
      "The area of triangle is:  36.0\n"
     ]
    }
   ],
   "source": [
    "# Area of Triangle = 1/2*base*height\n",
    "base = int(input(\"Enter base of triangle: \"))\n",
    "height = int(input(\"Enter height of triangle: \"))\n",
    "\n",
    "Area = 0.5*base*height\n",
    "print(\"\\n\")\n",
    "print(\"The area of triangle is: \",Area)"
   ]
  },
  {
   "cell_type": "markdown",
   "id": "519f7deb",
   "metadata": {},
   "source": [
    "### 4.\tWrite a Python program to swap two variables?"
   ]
  },
  {
   "cell_type": "code",
   "execution_count": 18,
   "id": "81c8673d",
   "metadata": {},
   "outputs": [
    {
     "name": "stdout",
     "output_type": "stream",
     "text": [
      "Enter First number: 12\n",
      "Enter Second number: 25\n",
      "Number before swapping:  12 25\n",
      "Number after swapping:  25 12\n"
     ]
    }
   ],
   "source": [
    "num_1 = int(input(\"Enter First number: \"))\n",
    "num_2 = int(input (\"Enter Second number: \"))\n",
    "\n",
    "print(\"Number before swapping: \",num_1,num_2)\n",
    "temp = num_1\n",
    "num_1 = num_2\n",
    "num_2 = temp\n",
    "\n",
    "print(\"Number after swapping: \",num_1, num_2)"
   ]
  },
  {
   "cell_type": "markdown",
   "id": "49a75eae",
   "metadata": {},
   "source": [
    "### 5.\tWrite a Python program to generate a random number? "
   ]
  },
  {
   "cell_type": "code",
   "execution_count": 24,
   "id": "ed51c409",
   "metadata": {},
   "outputs": [
    {
     "name": "stdout",
     "output_type": "stream",
     "text": [
      "The generated random number is:  76\n"
     ]
    }
   ],
   "source": [
    "import random\n",
    "random_num = random.randint(10, 100)\n",
    "print(\"The generated random number is: \",random_num)"
   ]
  },
  {
   "cell_type": "markdown",
   "id": "4dc02d15",
   "metadata": {},
   "source": [
    "# -- Thank you --"
   ]
  }
 ],
 "metadata": {
  "kernelspec": {
   "display_name": "Python 3 (ipykernel)",
   "language": "python",
   "name": "python3"
  },
  "language_info": {
   "codemirror_mode": {
    "name": "ipython",
    "version": 3
   },
   "file_extension": ".py",
   "mimetype": "text/x-python",
   "name": "python",
   "nbconvert_exporter": "python",
   "pygments_lexer": "ipython3",
   "version": "3.9.12"
  }
 },
 "nbformat": 4,
 "nbformat_minor": 5
}
