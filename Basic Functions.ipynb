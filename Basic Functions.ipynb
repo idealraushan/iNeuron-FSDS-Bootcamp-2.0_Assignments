{
 "cells": [
  {
   "cell_type": "markdown",
   "id": "f96ce5e1",
   "metadata": {},
   "source": [
    "# ---- Function Basic ---- "
   ]
  },
  {
   "cell_type": "markdown",
   "id": "7e223ccb",
   "metadata": {},
   "source": [
    "## 1. Write a function which will try to find out len of a string without using an inbuilt len function. "
   ]
  },
  {
   "cell_type": "code",
   "execution_count": 9,
   "id": "21a30509",
   "metadata": {},
   "outputs": [
    {
     "name": "stdout",
     "output_type": "stream",
     "text": [
      "Enter a string:iNeuron\n",
      "Length of the string is:  7\n"
     ]
    }
   ],
   "source": [
    "string =input(\"Enter a string:\")\n",
    "def test(string):\n",
    "    count = 0\n",
    "    for i in string:\n",
    "        count = count+1\n",
    "    print(\"Length of the string is: \",count)\n",
    "test(string)\n",
    "    "
   ]
  },
  {
   "cell_type": "markdown",
   "id": "dde65392",
   "metadata": {},
   "source": [
    "## 2. Write a function which will be able to print an index of list element without using an index function. "
   ]
  },
  {
   "cell_type": "code",
   "execution_count": 11,
   "id": "c4ac6b5e",
   "metadata": {},
   "outputs": [
    {
     "name": "stdout",
     "output_type": "stream",
     "text": [
      "Length of the string is:  5\n"
     ]
    }
   ],
   "source": [
    "list = [2, 5, 58, \"iNeuron\", \"hello\"]\n",
    "def test1(list):\n",
    "    for i in range(0, test1(list)):\n",
    "        print(list[i], \":\", i)\n",
    "test(list)"
   ]
  },
  {
   "cell_type": "markdown",
   "id": "06913804",
   "metadata": {},
   "source": [
    "## 3. Write a function which will be able to print an ip address of your system. "
   ]
  },
  {
   "cell_type": "code",
   "execution_count": 18,
   "id": "131818e8",
   "metadata": {},
   "outputs": [
    {
     "data": {
      "text/plain": [
       "'192.168.137.1'"
      ]
     },
     "execution_count": 18,
     "metadata": {},
     "output_type": "execute_result"
    }
   ],
   "source": [
    "import socket\n",
    "def test2():\n",
    "    ip_address = socket.gethostbyname(socket.gethostname())\n",
    "    return ip_address\n",
    "test2()"
   ]
  },
  {
   "cell_type": "markdown",
   "id": "b3bd7e95",
   "metadata": {},
   "source": [
    "## 4. Write a function which will shutdown your system."
   ]
  },
  {
   "cell_type": "code",
   "execution_count": 22,
   "id": "dfc60e4f",
   "metadata": {},
   "outputs": [
    {
     "data": {
      "text/plain": [
       "0"
      ]
     },
     "execution_count": 22,
     "metadata": {},
     "output_type": "execute_result"
    }
   ],
   "source": [
    "import os\n",
    "os.system(\"shutdown /r /t 5\")"
   ]
  },
  {
   "cell_type": "markdown",
   "id": "01dcbb45",
   "metadata": {},
   "source": [
    "## 5. Write a function which will take input as list with any kind of numeric value and give an output as a multiplication of all the numeric data l = [3.5, \"sudh\", \"ineuron\", \"fsds bootcamp 2.0\"]. "
   ]
  },
  {
   "cell_type": "code",
   "execution_count": 4,
   "id": "962a9a52",
   "metadata": {},
   "outputs": [
    {
     "data": {
      "text/plain": [
       "459.19999999999993"
      ]
     },
     "execution_count": 4,
     "metadata": {},
     "output_type": "execute_result"
    }
   ],
   "source": [
    "l = [3.5, 6.56, 4, 5, \"sudh\", \"ineuron\", \"fsds bootcamp 2.0\"]\n",
    "def test3(l):\n",
    "    mul = 1 \n",
    "    for i in l :\n",
    "        if type(i) == int or type(i) == float : \n",
    "            mul = mul *i\n",
    "    return mul\n",
    "test3(l)"
   ]
  },
  {
   "cell_type": "markdown",
   "id": "4b525132",
   "metadata": {},
   "source": [
    "## 6. Write a function which will be able to read all the mails."
   ]
  },
  {
   "cell_type": "code",
   "execution_count": null,
   "id": "c081e3b8",
   "metadata": {},
   "outputs": [],
   "source": [
    "import smtplib\n",
    "import time\n",
    "import imaplib\n",
    "import email\n",
    "import traceback \n",
    "ORG_EMAIL = \"@gmail.com\" \n",
    "FROM_EMAIL = 'sskumar9876@gmail.com'\n",
    "FROM_PWD = 'rlplfdcsoiqruagn'\n",
    "SMTP_SERVER = \"imap.gmail.com\" \n",
    "SMTP_PORT = 993\n",
    "imaplib._MAXLINE = 400000000\n",
    "\n",
    "def read_email_from_gmail():\n",
    "    try:\n",
    "        mail = imaplib.IMAP4_SSL(SMTP_SERVER)\n",
    "        mail.login(FROM_EMAIL,FROM_PWD)\n",
    "        mail.select('inbox')\n",
    "\n",
    "        data = mail.search(None, 'ALL')\n",
    "        mail_ids = data[1]\n",
    "        id_list = mail_ids[0].split()   \n",
    "        first_email_id = int(id_list[0])\n",
    "        latest_email_id = int(id_list[-1])\n",
    "\n",
    "        for i in range(latest_email_id,first_email_id, -1):\n",
    "            data = mail.fetch(str(i), '(RFC822)' )\n",
    "            for response_part in data:\n",
    "                arr = response_part[0]\n",
    "                if isinstance(arr, tuple):\n",
    "                    msg = email.message_from_string(str(arr[1],'utf-8'))\n",
    "                    email_subject = msg['subject']\n",
    "                    email_from = msg['from']\n",
    "                    print('From : ' + email_from + '\\n')\n",
    "                    print('Subject : ' + email_subject + '\\n')\n",
    "\n",
    "    except Exception as e:\n",
    "        traceback.print_exc() \n",
    "        print(str(e))\n",
    "\n",
    "read_email_from_gmail()"
   ]
  },
  {
   "cell_type": "markdown",
   "id": "88454d2b",
   "metadata": {},
   "source": [
    "## 7. Write a function which will be able to send a mail to anyone. "
   ]
  },
  {
   "cell_type": "code",
   "execution_count": null,
   "id": "b78f9aea",
   "metadata": {},
   "outputs": [],
   "source": [
    "import smtplib , ssl\n",
    "port = 465  # For SSL\n",
    "smtp_server = \"smtp.gmail.com\"\n",
    "sender_email = \"idealraushan@gmail.com\"  # Enter your address\n",
    "receiver_email = \"raushansaurya5@gmail.com\"  # Enter receiver address\n",
    "password = 'rlplfdcsoiqruagn'\n",
    "message = \"\"\"this is my message from python code in my live class\"\"\"\n",
    "\n",
    "context = ssl.create_default_context()\n",
    "with smtplib.SMTP_SSL(smtp_server, port, context=context) as server:\n",
    "    server.login(sender_email, password)\n",
    "    server.sendmail(sender_email, receiver_email, message)"
   ]
  },
  {
   "cell_type": "markdown",
   "id": "89dc388c",
   "metadata": {},
   "source": [
    "## 8. Write a function which will be able to read a doc file from your system. "
   ]
  },
  {
   "cell_type": "code",
   "execution_count": null,
   "id": "6b94221f",
   "metadata": {},
   "outputs": [],
   "source": [
    "a = docx2txt.process('testword.docx')\n",
    "print(a)"
   ]
  }
 ],
 "metadata": {
  "kernelspec": {
   "display_name": "Python 3 (ipykernel)",
   "language": "python",
   "name": "python3"
  },
  "language_info": {
   "codemirror_mode": {
    "name": "ipython",
    "version": 3
   },
   "file_extension": ".py",
   "mimetype": "text/x-python",
   "name": "python",
   "nbconvert_exporter": "python",
   "pygments_lexer": "ipython3",
   "version": "3.9.12"
  }
 },
 "nbformat": 4,
 "nbformat_minor": 5
}
