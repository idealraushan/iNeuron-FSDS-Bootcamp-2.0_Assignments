{
 "cells": [
  {
   "cell_type": "markdown",
   "metadata": {
    "id": "cyOfbWCdOjEr"
   },
   "source": [
    "# ASSIGNMENTS - Compulsory\n",
    "## Send it before 0000 hrs IST or 12 AM Wednesday\n",
    "\n",
    "## NOTE: Evaluation will be done before next class.\n",
    "\n",
    "## HOW TO SUBMIT: -\n",
    "Download this notebook, Solve it and upload in the google form given in the mail."
   ]
  },
  {
   "cell_type": "markdown",
   "metadata": {
    "id": "GT4IytkJMNa-"
   },
   "source": [
    "\n",
    "1. What is indentation error? Why indentation is important? Give one simple example?\n",
    "\n",
    "\n",
    "Ans:- In python,the indentation error is the absence of tabs and whitespaces between the lines of code.It occurs whenever the number of whitespaces assigned for starting the code block is not the same and the spaces or tabs are not placed properly.\n",
    "\n",
    "   Indentation indcates the block of code in python, without it getting error in which statement is to execute next or which statement belongs to which block.\n",
    "   \n",
    "   Example:-\n",
    "   A = 'this is our second assignment'\n",
    "        print(A)\n",
    "  Input In [6]\n",
    "    print(A)\n",
    "    ^\n",
    " IndentationError: unexpected indent\n",
    "\n",
    "----------------------------------------------------------------------------------------------------------------------------\n",
    "2. Correct the following code and write the comment where you made the correction?\n",
    "\n",
    "  ```python\n",
    "  class_started = bool(input(\"Hey friend, is class started?: [0-False/1-True]\"))\n",
    "\n",
    "  if class_started:\n",
    "      print(\"Since class started...\")\n",
    "      print(\"Lets concentrate\")\n",
    "  else:\n",
    "      print(\"Since class is not started...\")\n",
    "      print(\"let's revise\")    \n",
    "  ```\n",
    "\n",
    "  **HINT:** Refer your data type conversion class\n",
    "  \n",
    "  Answer is in Below , After the questions part\n",
    "  \n",
    "\n",
    "3. Use if else condition to verify that dataype of `input()` method in python is always string.\n",
    "\n",
    "4. Take 3 variables and assign integer values to them. Find the largest variable, by only using the if and else conditions.\n",
    "\n",
    "\n",
    "5. What would be the solution?\n",
    "    1. True\n",
    "    2. False\n",
    "\n",
    "    ```python\n",
    "    a = 6\n",
    "    b = 10\n",
    "    print( not ( not a == 10 or not b == 10) )\n",
    "    ```\n",
    "    \n",
    "Answer :- False\n",
    "    \n",
    "    \n",
    "6. Find the answer as well as find out the reason behind the result? -\n",
    "    - case 1:\n",
    "        ```python\n",
    "        A = 5.0\n",
    "        B = 10/2\n",
    "        print(A is B)\n",
    "        ```\n",
    "    - case 2:\n",
    "        ```python\n",
    "        A = 5.0\n",
    "        B = int(10/2)\n",
    "        print(A is B)\n",
    "        ```\n",
    "    - case 3:\n",
    "        ```python\n",
    "        A = 5.0\n",
    "        B = float(10/2)\n",
    "        print(A is B)\n",
    "        ```\n",
    " Answer:- case1 = False\n",
    "          case2 = False\n",
    "          case3 = False\n",
    "       for each case the result is False , Because in each case the id is not same or the id is different of A and B. And the \"is\" keyword compare the id of two variables (A and B). So the result is getting False.\n",
    "       "
   ]
  },
  {
   "cell_type": "markdown",
   "metadata": {
    "id": "a_4kbBVWNY-4"
   },
   "source": [
    "### Try to understand the following examples and answer the question based on it - \n",
    "    \n",
    "**Arithmatic Operators**\n",
    "\n",
    "|Operation|Meaning|\n",
    "|:-:|:-:|\n",
    "| **+** |addition|\n",
    "| **-** |subtraction|\n",
    "| **\\*** |multiplication|\n",
    "| **/** |true division|\n",
    "| **//** |integer division|\n",
    "| **%** |the modulo operator|\n",
    "\n",
    "\n",
    "Here `+`, `-`, `*`, `/` are regular arithmatic operators. Lets look at the `//` and `%` operators\n",
    "\n",
    "Usecase or examples - \n",
    "    \n",
    "```python\n",
    "var_a = 5\n",
    "var_b = 25\n",
    "integer_division = var_b // var_a\n",
    "print(f\"integer division: {var_b}/{var_a}={integer_division}\")\n",
    "```\n",
    "\n",
    "OUTPUT: integer division: 25/5=5\n",
    "\n",
    "```python\n",
    "var_a = 3\n",
    "var_b = 25\n",
    "integer_division = var_b // var_a\n",
    "print(f\"integer division: {var_b}/{var_a}={integer_division}\")\n",
    "```\n",
    "\n",
    "OUTPUT: integer division: 25/3=8\n",
    "\n",
    "```python\n",
    "var_a = 5\n",
    "var_b = 25\n",
    "remainder = var_b % var_a\n",
    "print(f\"remainder: {var_b}/{var_a} is {remainder}\")\n",
    "```\n",
    "\n",
    "OUTPUT: remainder: 25/5 is 0\n",
    "\n",
    "```python\n",
    "var_a = 3\n",
    "var_b = 25\n",
    "remainder = var_b % var_a\n",
    "print(f\"remainder: {var_b}/{var_a} is {remainder}\")\n",
    "```\n",
    "\n",
    "OUTPUT: remainder: 25/3 is 1\n",
    "\n"
   ]
  },
  {
   "cell_type": "markdown",
   "metadata": {
    "id": "v288WPlMNxmM"
   },
   "source": [
    "### Answer below questions on the above theory - \n",
    "\n",
    "7. Write a program that asks the user to enter a number. You should print out a message to the user, either “That number is divisible by either 3 or 5”, or “That number is not divisible by either 3 or 5”. Be sure to consider the data type of the input you are taking in from the user. Use a single if/else block to solve this problem.\n",
    "\n",
    "8. Take user input for length and width. Then calculate the area of rectangle. Also print as per length and width whether its a square of rectangle.\n",
    "\n",
    "9. Take two variable radius_1 and radius_2 and calculate the area of circle_1 and circle_2. Also print which circle has large area. If area is equal then print area is equal.\n",
    "\n",
    "10. Check whether a year is leap year or not. Use nested if...else to solve this problem. A leap year is exactly divisible by 4 except for century years (years ending with 00). The century year is a leap year only if it is perfectly divisible by 400."
   ]
  },
  {
   "cell_type": "markdown",
   "metadata": {},
   "source": [
    "# Answer:-"
   ]
  },
  {
   "cell_type": "markdown",
   "metadata": {},
   "source": [
    "1. What is indentation error? Why indentation is important? Give one simple example?"
   ]
  },
  {
   "cell_type": "markdown",
   "metadata": {},
   "source": [
    "\n",
    "Ans:- In python,the indentation error is the absence of tabs and whitespaces between the lines of code.It occurs whenever the number of whitespaces assigned for starting the code block is not the same and the spaces or tabs are not placed properly.\n",
    "\n",
    "   Indentation indcates the block of code in python, without it getting error in which statement is to execute next or which statement belongs to which block.\n",
    "   \n",
    "   Example:-\n",
    "   A = 'this is our second assignment'\n",
    "        print(A)\n",
    "  Input In [6]\n",
    "    print(A)\n",
    "    ^\n",
    " IndentationError: unexpected indent"
   ]
  },
  {
   "cell_type": "code",
   "execution_count": 11,
   "metadata": {},
   "outputs": [
    {
     "ename": "IndentationError",
     "evalue": "unexpected indent (1185698508.py, line 2)",
     "output_type": "error",
     "traceback": [
      "\u001b[1;36m  Input \u001b[1;32mIn [11]\u001b[1;36m\u001b[0m\n\u001b[1;33m    print(A)\u001b[0m\n\u001b[1;37m    ^\u001b[0m\n\u001b[1;31mIndentationError\u001b[0m\u001b[1;31m:\u001b[0m unexpected indent\n"
     ]
    }
   ],
   "source": [
    " A = 'this is our second assignment'\n",
    "        print(A)"
   ]
  },
  {
   "cell_type": "markdown",
   "metadata": {},
   "source": [
    "# ------------------------------------------------------------------------------------------------------------"
   ]
  },
  {
   "cell_type": "markdown",
   "metadata": {},
   "source": [
    "2. Correct the following code and write the comment where you made the correction?\n",
    "\n",
    "  ```python\n",
    "  class_started = bool(input(\"Hey friend, is class started?: [0-False/1-True]\"))\n",
    "\n",
    "  if class_started:\n",
    "      print(\"Since class started...\")\n",
    "      print(\"Lets concentrate\")\n",
    "  else:\n",
    "      print(\"Since class is not started...\")\n",
    "      print(\"let's revise\")    \n",
    "  ```\n",
    "\n",
    "  **HINT:** Refer your data type conversion class"
   ]
  },
  {
   "cell_type": "code",
   "execution_count": 3,
   "metadata": {
    "id": "XumyqFp6MHnv"
   },
   "outputs": [
    {
     "name": "stdout",
     "output_type": "stream",
     "text": [
      "Hey friend, is class started?: [0-False/1-True]0\n",
      "Since class is not started...\n",
      "let's revise\n"
     ]
    }
   ],
   "source": [
    "\n",
    "class_started = bool(int(input(\"Hey friend, is class started?: [0-False/1-True]\")))\n",
    "\n",
    "# Firstly we add \"int\" type to convert string to integer.otherwise it always gives us output as True based on only on IF condition.\n",
    "# Then arrenge the Block of code (Arrange indentation)\n",
    "# And then in IF condition we assign the Bool value \"True\"\n",
    "\n",
    "if class_started == True:\n",
    "    print(\"Since class started...\")\n",
    "    print(\"Lets concentrate\")\n",
    "else:\n",
    "    print(\"Since class is not started...\")\n",
    "    print(\"let's revise\")"
   ]
  },
  {
   "cell_type": "markdown",
   "metadata": {},
   "source": [
    "# ------------------------------------------------------------------------------------------------------------"
   ]
  },
  {
   "cell_type": "markdown",
   "metadata": {},
   "source": [
    "3. Use if else condition to verify that dataype of `input()` method in python is always string."
   ]
  },
  {
   "cell_type": "code",
   "execution_count": 10,
   "metadata": {
    "scrolled": false
   },
   "outputs": [
    {
     "name": "stdout",
     "output_type": "stream",
     "text": [
      "Give input and hit enter : 65\n",
      "<class 'str'>\n",
      "This is a string datatype\n"
     ]
    }
   ],
   "source": [
    "A = input(\"Give input and hit enter : \")\n",
    "if type(A)==str:\n",
    "    print(type(A))\n",
    "    print(\"This is a string datatype\")\n",
    "else:\n",
    "    print(type(A))\n",
    "    print(\"this is not a string datatype\")"
   ]
  },
  {
   "cell_type": "markdown",
   "metadata": {},
   "source": [
    "# ----------------------------------------------------------------------------------------------------------"
   ]
  },
  {
   "cell_type": "markdown",
   "metadata": {},
   "source": [
    "4. Take 3 variables and assign integer values to them. Find the largest variable, by only using the if and else conditions."
   ]
  },
  {
   "cell_type": "code",
   "execution_count": 5,
   "metadata": {},
   "outputs": [
    {
     "name": "stdout",
     "output_type": "stream",
     "text": [
      "B is the largest value\n"
     ]
    }
   ],
   "source": [
    "A = 52\n",
    "B = 89\n",
    "C = 63\n",
    "if A>B and A>C:\n",
    "    print(\" A is the largest value\")\n",
    "else:\n",
    "    if B>A and B>C:\n",
    "        print (\"B is the largest value\")\n",
    "    else:\n",
    "        print(\"C is the largest value\")\n"
   ]
  },
  {
   "cell_type": "markdown",
   "metadata": {},
   "source": [
    "# -------------------------------------------------------------------------------------------------------------"
   ]
  },
  {
   "cell_type": "markdown",
   "metadata": {},
   "source": [
    "5. What would be the solution?\n",
    "    1. True\n",
    "    2. False\n",
    "\n",
    "    ```python\n",
    "    a = 6\n",
    "    b = 10\n",
    "    print( not ( not a == 10 or not b == 10) )\n",
    "    ```"
   ]
  },
  {
   "cell_type": "markdown",
   "metadata": {},
   "source": [
    "Answer :- False"
   ]
  },
  {
   "cell_type": "markdown",
   "metadata": {},
   "source": [
    "# ---------------------------------------------------------------------------------------------------------------"
   ]
  },
  {
   "cell_type": "markdown",
   "metadata": {},
   "source": [
    "6. Find the answer as well as find out the reason behind the result? -\n",
    "    - case 1:\n",
    "        ```python\n",
    "        A = 5.0\n",
    "        B = 10/2\n",
    "        print(A is B)\n",
    "        ```\n",
    "    - case 2:\n",
    "        ```python\n",
    "        A = 5.0\n",
    "        B = int(10/2)\n",
    "        print(A is B)\n",
    "        ```\n",
    "    - case 3:\n",
    "        ```python\n",
    "        A = 5.0\n",
    "        B = float(10/2)\n",
    "        print(A is B)\n",
    "        ```"
   ]
  },
  {
   "cell_type": "markdown",
   "metadata": {},
   "source": [
    "Answer:-    case1 = False,\n",
    "          case2 = False,\n",
    "          case3 = False,\n",
    "       for each case the result is False , Because in each case the id is not same or the id is different of A and B. And the \"is\" keyword compare the id of two variables (A and B). So the result is getting False.\n",
    "       "
   ]
  },
  {
   "cell_type": "markdown",
   "metadata": {},
   "source": [
    "# -------------------------------------------------------------------------------------------------------------"
   ]
  },
  {
   "cell_type": "markdown",
   "metadata": {},
   "source": [
    "7. Write a program that asks the user to enter a number. You should print out a message to the user, either “That number is divisible by either 3 or 5”, or “That number is not divisible by either 3 or 5”. Be sure to consider the data type of the input you are taking in from the user. Use a single if/else block to solve this problem."
   ]
  },
  {
   "cell_type": "code",
   "execution_count": 9,
   "metadata": {},
   "outputs": [
    {
     "name": "stdout",
     "output_type": "stream",
     "text": [
      "enter a number :51\n",
      "51 is divisible by either 3 or 5 \n"
     ]
    }
   ],
   "source": [
    "A = int(input(\"enter a number :\"))\n",
    "if A%3 == 0 or A%5 == 0:\n",
    "    print(f\"{A} is divisible by either 3 or 5 \")\n",
    "else:\n",
    "    print(f\"{A} is not divisible by either 3 or 5\")"
   ]
  },
  {
   "cell_type": "markdown",
   "metadata": {},
   "source": [
    "# ---------------------------------------------------------------------------------------------------------------"
   ]
  },
  {
   "cell_type": "markdown",
   "metadata": {},
   "source": [
    "8. Take user input for length and width. Then calculate the area of rectangle. Also print as per length and width whether its a square of rectangle."
   ]
  },
  {
   "cell_type": "code",
   "execution_count": 24,
   "metadata": {},
   "outputs": [
    {
     "name": "stdout",
     "output_type": "stream",
     "text": [
      "Enter the Length: 9\n",
      "Enter the Width: 7\n",
      "As per Length and Width it is a Rectangle : \n",
      "Area is 63\n"
     ]
    }
   ],
   "source": [
    "X = int(input(\"Enter the Length: \"))\n",
    "Y = int(input(\"Enter the Width: \"))\n",
    "if X == Y:\n",
    "    print(\"As per Length and Width it is a Square : \")\n",
    "else:\n",
    "    print(\"As per Length and Width it is a Rectangle : \")\n",
    "Area=X*Y\n",
    "print(f\"Area is {Area}\")\n"
   ]
  },
  {
   "cell_type": "markdown",
   "metadata": {},
   "source": [
    "# --------------------------------------------------------------------------------------------------------------"
   ]
  },
  {
   "cell_type": "markdown",
   "metadata": {},
   "source": [
    "9. Take two variable radius_1 and radius_2 and calculate the area of circle_1 and circle_2. Also print which circle has large area. If area is equal then print area is equal."
   ]
  },
  {
   "cell_type": "code",
   "execution_count": 7,
   "metadata": {},
   "outputs": [
    {
     "name": "stdout",
     "output_type": "stream",
     "text": [
      "Enter radius of 1st Circle : 8\n",
      "Enter radius of 2nd Circle : 3\n",
      "Area of First Circle is : 201.024 \n",
      "Area of Second Circle is : 28.269 \n",
      "First Circle has Large Area \n"
     ]
    }
   ],
   "source": [
    "radius_1 = int(input(\"Enter radius of 1st Circle : \"))\n",
    "radius_2 = int(input(\"Enter radius of 2nd Circle : \"))\n",
    "\n",
    "Area_of_1st_Circle = 3.141*(radius_1)**2\n",
    "print(f\"Area of First Circle is : {Area_of_1st_Circle} \")\n",
    "\n",
    "Area_of_2nd_Circle = 3.141*(radius_2)**2\n",
    "print(f\"Area of Second Circle is : {Area_of_2nd_Circle} \")\n",
    "\n",
    "if Area_of_1st_Circle>Area_of_2nd_Circle:\n",
    "    print(f\"First Circle has Large Area \")\n",
    "else:\n",
    "    if Area_of_1st_Circle<Area_of_2nd_Circle:\n",
    "        print(\"Second Circle has Large Area \")\n",
    "    else:\n",
    "        print(\"Area is Equal \")"
   ]
  },
  {
   "cell_type": "markdown",
   "metadata": {},
   "source": [
    "# --------------------------------------------------------------------------------------------------------------"
   ]
  },
  {
   "cell_type": "markdown",
   "metadata": {},
   "source": [
    "10. Check whether a year is leap year or not. Use nested if...else to solve this problem. A leap year is exactly divisible by 4 except for century years (years ending with 00). The century year is a leap year only if it is perfectly divisible by 400."
   ]
  },
  {
   "cell_type": "code",
   "execution_count": 10,
   "metadata": {},
   "outputs": [
    {
     "name": "stdout",
     "output_type": "stream",
     "text": [
      "Enter The Year : 2009\n",
      "2009 is not a leap year \n"
     ]
    }
   ],
   "source": [
    "Year = int(input(\"Enter The Year : \"))\n",
    "if Year % 4 == 0 and Year % 100 != 0 or Year % 400 == 0:\n",
    "    print(f\"{Year} is a Leap Year \")\n",
    "else:\n",
    "    print(f\"{Year} is not a leap year \")\n",
    "    "
   ]
  },
  {
   "cell_type": "markdown",
   "metadata": {},
   "source": [
    "# Thank You"
   ]
  }
 ],
 "metadata": {
  "colab": {
   "collapsed_sections": [],
   "provenance": []
  },
  "kernelspec": {
   "display_name": "Python 3 (ipykernel)",
   "language": "python",
   "name": "python3"
  },
  "language_info": {
   "codemirror_mode": {
    "name": "ipython",
    "version": 3
   },
   "file_extension": ".py",
   "mimetype": "text/x-python",
   "name": "python",
   "nbconvert_exporter": "python",
   "pygments_lexer": "ipython3",
   "version": "3.9.12"
  }
 },
 "nbformat": 4,
 "nbformat_minor": 1
}
