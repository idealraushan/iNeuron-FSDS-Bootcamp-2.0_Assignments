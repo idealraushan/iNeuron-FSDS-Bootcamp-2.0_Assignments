{
 "cells": [
  {
   "cell_type": "markdown",
   "id": "4c58f537",
   "metadata": {},
   "source": [
    "# Assignment_1  solution "
   ]
  },
  {
   "cell_type": "markdown",
   "id": "538e9e97",
   "metadata": {},
   "source": [
    "### 1.  In the below elements which of them are values or an expression? eg:- values can be integer or string and expressions will be mathematical operators."
   ]
  },
  {
   "cell_type": "markdown",
   "id": "08e724cb",
   "metadata": {},
   "source": [
    "*, 'hello' , -87.8 , - , / , + , 6 "
   ]
  },
  {
   "cell_type": "markdown",
   "id": "e44bde9c",
   "metadata": {},
   "source": [
    "**Ans:** There are total 3 values and 4 operators.  \n",
    "These are:  \n",
    "**Values:** 'hello' , -87.8 , 6  \n",
    "**Operators:** * , - , / , + ,  "
   ]
  },
  {
   "cell_type": "markdown",
   "id": "b83eb863",
   "metadata": {},
   "source": [
    "### 2. What is the difference between string and variable? "
   ]
  },
  {
   "cell_type": "markdown",
   "id": "6f99509d",
   "metadata": {},
   "source": [
    "**Ans:** Variable is a symbol that is used to store of information. And string is a type of information you would store in the variable.String is a group/single characters,enclosed with \"  \" or '  ' ."
   ]
  },
  {
   "cell_type": "markdown",
   "id": "39474aea",
   "metadata": {},
   "source": [
    "### 3. Describe three different data types."
   ]
  },
  {
   "cell_type": "markdown",
   "id": "eb48a5d5",
   "metadata": {},
   "source": [
    "**Ans:** Three different data types in python are:\n",
    "1. **Numeric Type:** Numeric data type represent the data which has numeric value.   \n",
    "      **int data type:** int data type represent whole number(contains positive or negative number or integral values)  \n",
    "      **float data type:** float data type is use to represent the real number with floating point values(Decimal values)  \n",
    "      **complex data type:** Complex number is represented by complex class.It is specified as (real part) + (imaginary part)j \n",
    "2. **Sequence Type:**  sequence is the ordered collection of similar or different data types.  \n",
    "      **strint:**  It is a sequence of characters represented in the quotation marks.The characters put in a single quote or                        double-quote.   \n",
    "      **List:**  List is a ordered collection of data.The items stored in the list are separated with a comma (,) and enclosed                      within square brackets [].  \n",
    "      **Tuple:**  A tuple is similar to the list.The items of the tuple are separated with a comma (,) and enclosed in                             parentheses ().\n",
    "3. **Boolean type:**  Boolean type provides two built-in values, True and False.It is denoted by the class **bool**."
   ]
  },
  {
   "cell_type": "markdown",
   "id": "415e2b5f",
   "metadata": {},
   "source": [
    "### 4. What is an expression made up of? What do all expressions do?"
   ]
  },
  {
   "cell_type": "markdown",
   "id": "1cf24126",
   "metadata": {},
   "source": [
    "**Ans:** An expression is a combination of values, variables, operators, and calls to functions. Expressions need to be evaluated. If you ask Python to print an expression, the interpreter evaluates the expression and displays the result."
   ]
  },
  {
   "cell_type": "code",
   "execution_count": 2,
   "id": "8d9dd1cd",
   "metadata": {},
   "outputs": [
    {
     "data": {
      "text/plain": [
       "31"
      ]
     },
     "execution_count": 2,
     "metadata": {},
     "output_type": "execute_result"
    }
   ],
   "source": [
    "#Example\n",
    "A = 9*4+5-10 # is an expression\n",
    "A"
   ]
  },
  {
   "cell_type": "markdown",
   "id": "db199db7",
   "metadata": {},
   "source": [
    "### 5. This assignment statements, like spam = 10. What is the difference between an expression and a statement? "
   ]
  },
  {
   "cell_type": "markdown",
   "id": "d2dadcb2",
   "metadata": {},
   "source": [
    "**Ans:** An expression is a combination of values, variables, operators, and calls to functions.All expressions evaluate to a single value.While a statement is a complete line of code that performs some action."
   ]
  },
  {
   "cell_type": "code",
   "execution_count": 4,
   "id": "945e3c06",
   "metadata": {},
   "outputs": [
    {
     "data": {
      "text/plain": [
       "31"
      ]
     },
     "execution_count": 4,
     "metadata": {},
     "output_type": "execute_result"
    }
   ],
   "source": [
    "# Example\n",
    "A = 9*4+5-10 # is an expression\n",
    "Statement = 'statement is a complete line of code' # is a statement\n",
    "A"
   ]
  },
  {
   "cell_type": "markdown",
   "id": "5b845396",
   "metadata": {},
   "source": [
    "### 6. After running the following code, what does the variable bacon contain?  \n",
    "bacon = 22  \n",
    "bacon + 1\n",
    " "
   ]
  },
  {
   "cell_type": "markdown",
   "id": "95fab943",
   "metadata": {},
   "source": [
    "**Ans:** The bacon variable is set to 20. The bacon + 1 expression does not reassign the value in bacon (that would need an assignment statement: bacon = bacon + 1)"
   ]
  },
  {
   "cell_type": "code",
   "execution_count": 5,
   "id": "eabf880a",
   "metadata": {},
   "outputs": [
    {
     "name": "stdout",
     "output_type": "stream",
     "text": [
      "22\n"
     ]
    }
   ],
   "source": [
    "# Example\n",
    "bacon = 22\n",
    "bacon + 1\n",
    "print(bacon)"
   ]
  },
  {
   "cell_type": "code",
   "execution_count": 6,
   "id": "f9a4229b",
   "metadata": {},
   "outputs": [
    {
     "name": "stdout",
     "output_type": "stream",
     "text": [
      "23\n"
     ]
    }
   ],
   "source": [
    "# After reassigning the valu in bicon\n",
    "bacon = 22\n",
    "bacon + 1\n",
    "bacon = bacon+1\n",
    "print(bacon)"
   ]
  },
  {
   "cell_type": "markdown",
   "id": "c9fb6fe6",
   "metadata": {},
   "source": [
    "### 7. What should the values of the following two terms be?\n",
    "'spam' + 'spamspam'  \n",
    "'spam' * 3\n",
    " "
   ]
  },
  {
   "cell_type": "markdown",
   "id": "6131a20b",
   "metadata": {},
   "source": [
    "**Ans:** Both expressions evaluate to the string **'spamspamspam'**"
   ]
  },
  {
   "cell_type": "code",
   "execution_count": 7,
   "id": "f4cae558",
   "metadata": {},
   "outputs": [
    {
     "name": "stdout",
     "output_type": "stream",
     "text": [
      "spamspamspam\n",
      "spamspamspam\n"
     ]
    }
   ],
   "source": [
    "print('spam' + 'spamspam') # string concatenation\n",
    "print('spam' * 3) # string multiply"
   ]
  },
  {
   "cell_type": "markdown",
   "id": "9c8302d2",
   "metadata": {},
   "source": [
    "### 8. Why is eggs a valid variable name while 100 is invalid? "
   ]
  },
  {
   "cell_type": "markdown",
   "id": "c8c554c2",
   "metadata": {},
   "source": [
    "**Ans:** Because a variable names cannot begin with a number.A variable name can only contain alpha-numeric characters and underscores.100 is an integer , So eggs can be used as a variable."
   ]
  },
  {
   "cell_type": "markdown",
   "id": "92903f14",
   "metadata": {},
   "source": [
    "### 9. What three functions can be used to get the integer, floating-point number, or string version of a value? "
   ]
  },
  {
   "cell_type": "markdown",
   "id": "74d74bdf",
   "metadata": {},
   "source": [
    "**Ans:** The **int() , float() , str()**  functions is used to get the integer, floating-point number, or string version of a value"
   ]
  },
  {
   "cell_type": "code",
   "execution_count": 16,
   "id": "f145d3a1",
   "metadata": {},
   "outputs": [
    {
     "name": "stdout",
     "output_type": "stream",
     "text": [
      "100\n",
      "100.0\n",
      "100\n"
     ]
    }
   ],
   "source": [
    "print(int(100))\n",
    "print(float(100))\n",
    "print(str(100))"
   ]
  },
  {
   "cell_type": "markdown",
   "id": "40e33b67",
   "metadata": {},
   "source": [
    "### 10. Why does this expression cause an error? How can you fix it?\n",
    "'I have eaten ' + 99 + ' burritos.'\n",
    " "
   ]
  },
  {
   "cell_type": "markdown",
   "id": "7ac894c4",
   "metadata": {},
   "source": [
    "**Ans:**  Because 99 is not a string. Both \"i have eaten\" & \"burritos\" is a string  and only strings can be concatenated to other strings with the + operator.To fix the error 99 must be converted to a string."
   ]
  },
  {
   "cell_type": "code",
   "execution_count": 19,
   "id": "88529e9e",
   "metadata": {},
   "outputs": [
    {
     "name": "stdout",
     "output_type": "stream",
     "text": [
      "I have eaten 99 burritos.\n"
     ]
    }
   ],
   "source": [
    "print('I have eaten ' +str(99)+ ' burritos.')"
   ]
  },
  {
   "cell_type": "markdown",
   "id": "03c33d0a",
   "metadata": {},
   "source": [
    "# -- Thank you --"
   ]
  }
 ],
 "metadata": {
  "kernelspec": {
   "display_name": "Python 3 (ipykernel)",
   "language": "python",
   "name": "python3"
  },
  "language_info": {
   "codemirror_mode": {
    "name": "ipython",
    "version": 3
   },
   "file_extension": ".py",
   "mimetype": "text/x-python",
   "name": "python",
   "nbconvert_exporter": "python",
   "pygments_lexer": "ipython3",
   "version": "3.9.12"
  }
 },
 "nbformat": 4,
 "nbformat_minor": 5
}
